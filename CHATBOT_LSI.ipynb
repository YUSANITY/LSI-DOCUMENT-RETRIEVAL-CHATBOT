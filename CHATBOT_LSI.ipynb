{
 "cells": [
  {
   "cell_type": "markdown",
   "metadata": {},
   "source": [
    "# JARVIS LAWYER APPRENTICE BOT- LSI"
   ]
  },
  {
   "cell_type": "markdown",
   "metadata": {},
   "source": [
    "Load Required Library"
   ]
  },
  {
   "cell_type": "code",
   "execution_count": 1,
   "metadata": {},
   "outputs": [],
   "source": [
    "import pandas as pd\n",
    "import random\n",
    "import nltk\n",
    "import string\n",
    "from nltk.corpus import stopwords \n",
    "import gensim\n",
    "from gensim import corpora, models, similarities\n",
    "\n",
    "import warnings\n",
    "warnings.simplefilter('ignore')"
   ]
  },
  {
   "cell_type": "markdown",
   "metadata": {},
   "source": [
    "Data Preparation and Preprocessing"
   ]
  },
  {
   "cell_type": "code",
   "execution_count": 2,
   "metadata": {},
   "outputs": [
    {
     "data": {
      "text/html": [
       "<div>\n",
       "<style scoped>\n",
       "    .dataframe tbody tr th:only-of-type {\n",
       "        vertical-align: middle;\n",
       "    }\n",
       "\n",
       "    .dataframe tbody tr th {\n",
       "        vertical-align: top;\n",
       "    }\n",
       "\n",
       "    .dataframe thead th {\n",
       "        text-align: right;\n",
       "    }\n",
       "</style>\n",
       "<table border=\"1\" class=\"dataframe\">\n",
       "  <thead>\n",
       "    <tr style=\"text-align: right;\">\n",
       "      <th></th>\n",
       "      <th>MESSAGE</th>\n",
       "      <th>RESPONSE</th>\n",
       "    </tr>\n",
       "  </thead>\n",
       "  <tbody>\n",
       "    <tr>\n",
       "      <th>0</th>\n",
       "      <td>What are the requirements for me to adopt my n...</td>\n",
       "      <td>You may wish to visit this site: https://app.a...</td>\n",
       "    </tr>\n",
       "    <tr>\n",
       "      <th>1</th>\n",
       "      <td>how to have a properly adopted in accordance w...</td>\n",
       "      <td>You may want to refer to this site:https://app...</td>\n",
       "    </tr>\n",
       "    <tr>\n",
       "      <th>2</th>\n",
       "      <td>we have been raising our grandchild from birth...</td>\n",
       "      <td>You would have to apply to the Family Courts: ...</td>\n",
       "    </tr>\n",
       "    <tr>\n",
       "      <th>3</th>\n",
       "      <td>I was legally adopted since young. Many years ...</td>\n",
       "      <td>Your biological parents will have to apply to ...</td>\n",
       "    </tr>\n",
       "    <tr>\n",
       "      <th>4</th>\n",
       "      <td>Can an adoption be reversed? Both adoptive par...</td>\n",
       "      <td>We are not aware of any such cases as the Adop...</td>\n",
       "    </tr>\n",
       "  </tbody>\n",
       "</table>\n",
       "</div>"
      ],
      "text/plain": [
       "                                             MESSAGE  \\\n",
       "0  What are the requirements for me to adopt my n...   \n",
       "1  how to have a properly adopted in accordance w...   \n",
       "2  we have been raising our grandchild from birth...   \n",
       "3  I was legally adopted since young. Many years ...   \n",
       "4  Can an adoption be reversed? Both adoptive par...   \n",
       "\n",
       "                                            RESPONSE  \n",
       "0  You may wish to visit this site: https://app.a...  \n",
       "1  You may want to refer to this site:https://app...  \n",
       "2  You would have to apply to the Family Courts: ...  \n",
       "3  Your biological parents will have to apply to ...  \n",
       "4  We are not aware of any such cases as the Adop...  "
      ]
     },
     "execution_count": 2,
     "metadata": {},
     "output_type": "execute_result"
    }
   ],
   "source": [
    "#Load Data Source\n",
    "path = '/home/machine1/SANDY/text_mining/CHATBOT/2_LSI/'\n",
    "data = pd.read_csv(path + 'legal_help_clean.csv')\n",
    "data.head()"
   ]
  },
  {
   "cell_type": "code",
   "execution_count": 3,
   "metadata": {},
   "outputs": [],
   "source": [
    "#Create Stop Word\n",
    "newstopwords = set(stopwords.words('english'))\n",
    "#define Wordnet Lemmatizer \n",
    "WNlemma = nltk.WordNetLemmatizer()\n",
    "\n",
    "#Create Preprocessing Function\n",
    "def pre_process(text):\n",
    "    tokens = nltk.word_tokenize(text)\n",
    "    tokens=[WNlemma.lemmatize(t) for t in tokens]\n",
    "    tokens= [ t for t in tokens if t not in string.punctuation ]\n",
    "    tokens=[word for word in tokens if word.lower() not in newstopwords]\n",
    "    # bigr = nltk.bigrams(tokens[:10])\n",
    "    # trigr = nltk.trigrams(tokens[:10])\n",
    "    return(tokens)"
   ]
  },
  {
   "cell_type": "code",
   "execution_count": 4,
   "metadata": {},
   "outputs": [],
   "source": [
    "#greeting function\n",
    "GREETING_INPUTS = (\"hello\", \"hi\", \"greetings\", \"hello i need help\", \"good day\",\"hey\",\"i need help\", \"greetings\")\n",
    "GREETING_RESPONSES = [\"Good day, How may i of help?\", \"Hello, How can i help?\", \"hello\", \"I am glad! You are talking to me.\"]\n",
    "           \n",
    "def greeting(sentence):\n",
    "    for word in sentence.split():\n",
    "        if word.lower() in GREETING_INPUTS:\n",
    "            return random.choice(GREETING_RESPONSES)"
   ]
  },
  {
   "cell_type": "code",
   "execution_count": 5,
   "metadata": {},
   "outputs": [],
   "source": [
    "#Preprocess Question Column\n",
    "data['MESSAGE'] = data['MESSAGE'].apply(pre_process)\n",
    "    \n",
    "#Define Questions\n",
    "question = data['MESSAGE']"
   ]
  },
  {
   "cell_type": "code",
   "execution_count": 6,
   "metadata": {},
   "outputs": [],
   "source": [
    "dictionary = corpora.Dictionary(question)\n",
    "corpus = [dictionary.doc2bow(a) for a in question]\n",
    "tfidf = models.TfidfModel(corpus)\n",
    "    \n",
    "corpus_tfidf = tfidf[corpus]\n",
    "lsi = models.LsiModel(corpus_tfidf, id2word=dictionary, num_topics=650) # Threshold A\n",
    "corpus_lsi = lsi[corpus_tfidf]\n",
    "index = similarities.MatrixSimilarity(corpus_lsi)"
   ]
  },
  {
   "cell_type": "markdown",
   "metadata": {},
   "source": [
    "ChatBot Function Definition"
   ]
  },
  {
   "cell_type": "code",
   "execution_count": 15,
   "metadata": {},
   "outputs": [],
   "source": [
    "def Talk_To_Javris(test_set_sentence):        \n",
    "    # ---------------Tokenisation of user input -----------------------------#\n",
    "    tokens = pre_process(test_set_sentence)\n",
    "    texts = \" \".join(tokens)    \n",
    "    # -----------------------------------------------------------------------#\n",
    "    \n",
    "    # ---------------Find and Sort Similarity -------------------------------#\n",
    "    vec_bow = dictionary.doc2bow(texts.lower().split())\n",
    "    vec_tfidf = tfidf[vec_bow]\n",
    "    vec_lsi = lsi[vec_tfidf]\n",
    "\n",
    "    #If not in the topic trained.\n",
    "    if not (vec_lsi):\n",
    "        \n",
    "        not_understood = \"Apology, I do not understand. Can you rephrase?\"\n",
    "        return not_understood, 999\n",
    "    \n",
    "    else: \n",
    "        # sort similarity\n",
    "        sims = index[vec_lsi]\n",
    "        sims = sorted(enumerate(sims), key=lambda item: -item[1])\n",
    "        \n",
    "        index_s =[]\n",
    "        score_s = []\n",
    "        for i in range(len(sims)):\n",
    "            x = sims[i][1]\n",
    "            # If similarity is less than 0.5 ask user to rephrase.\n",
    "            if x <=0.5: # Threshold B\n",
    "                not_understood = \"Apology, I do not understand. Can you rephrase?\"\n",
    "                return not_understood, 999  \n",
    "            else: \n",
    "                index_s.append(str(sims[i][0]))\n",
    "                score_s.append(str(sims[i][1]))\n",
    "                reply_indexes = pd.DataFrame({'index': index_s,'score': score_s})\n",
    "        \n",
    "\n",
    "            #Find Top Questions and Score      \n",
    "            r_index = int(reply_indexes['index'].loc[0])\n",
    "            r_score = float(reply_indexes['score'].loc[0])\n",
    "\n",
    "            reply = str(data.iloc[:,1][r_index])\n",
    "        \n",
    "            return reply, r_score"
   ]
  },
  {
   "cell_type": "code",
   "execution_count": 17,
   "metadata": {},
   "outputs": [
    {
     "name": "stdout",
     "output_type": "stream",
     "text": [
      "......................................................................................\n",
      "\u001b[1;37;40mJarvis\u001b[0m: My name is Jarvis, a Lawyer Apprentice Bot.\n",
      "\u001b[1;37;40mJarvis\u001b[0m: I will try my best to answer your query.\n",
      "\u001b[1;37;40mJarvis\u001b[0m: If you want to exit, you can type < bye >.\n",
      "......................................................................................\n",
      "USER  :Hello\n",
      "......................................................................................\n",
      "\u001b[1;37;40mJARVIS\u001b[0m: Good day, How may i of help?\n",
      "......................................................................................\n",
      "USER  :Can i get divorce?\n",
      "......................................................................................\n",
      "\u001b[1;37;40mJARVIS\u001b[0m: You will be granted a divorce only if the Family Court agrees that you marriage has ended, or in legal terms,  ?irretrievably broken down? . To prove this you must prove that:-your spouse has committed adultery, and you find it intolerable to live with him or her-your spouse has behaved in such a way that you cannot reasonably be expected to live with him or her-your spouse has deserted you for at least two years-if your spouse agrees to the divorce, that you and your spouse have been separated for at least three years-if your spouse does not agree to the divorce, that you and your spouse have been separated for at least four years\n",
      "......................................................................................\n",
      "USER  :cost of divorce?\n",
      "......................................................................................\n",
      "\u001b[1;37;40mJARVIS\u001b[0m: This depends on the lawyer that you approach.\n",
      "......................................................................................\n",
      "USER  :i want to adopt\n",
      "......................................................................................\n",
      "\u001b[1;37;40mJARVIS\u001b[0m: In order to adopt a child in Singapore, you must fulfil certain guidelines laid down by the Ministry of Social and Family Development. These can be found here: http://app.customerfeedback.mcys.gov.sg/fcd_faqmain.asp?strFAQSysid=2004919155835&strItemChoice=200499134018&strSubItemChoice=2004919114225&action=SHOWTOPICS&m_strTopicSysID=2004919114242 Essentially, the requirements are that you must be a resident of Singapore, be at least 25 years of age and be at least 21 years older than the child. There are other requirements which may found at the link above.\n",
      "......................................................................................\n",
      "USER  :what is the process for adoption\n",
      "......................................................................................\n",
      "\u001b[1;37;40mJARVIS\u001b[0m: Adoption is a legal process where parental rights over a child are conferred to the applicants, who may not be the natural parents of the child. The Court will appoint a Guardian in Adoption (GIA) for the child, whose role is to safeguard the child? s legal interest before the Court. The GIA will investigate the circumstances of the adoption and report to the Court. The Court would only grant an adoption order after it is satisfied that the requirements of the Adoption of Children Act (Cap 4) have been complied with and that it is in the best interests of the child to be adopted.\n",
      "......................................................................................\n",
      "USER  :i want a divorce, do i need a lawyer?\n",
      "......................................................................................\n",
      "\u001b[1;37;40mJARVIS\u001b[0m: No, you can apply for a divorce yourself, which is known in legal terms as  ?acting in person? . However, you will still need to comply with the legal and procedural requirements of the Family Court proceedings. For example, you must ensure that the necessary documents are prepared in the correct form and file these through the Electronic Filing System.The Family Court cannot give you any advice on what you should say or do. Only a qualified lawyer can give you independent legal advice on the merits of your case.\n",
      "......................................................................................\n",
      "USER  :Do i need to pay maintenance? \n",
      "......................................................................................\n",
      "\u001b[1;37;40mJARVIS\u001b[0m: Maintenance is financial support by your former spouse.\n",
      "......................................................................................\n",
      "USER  :Do i need to sell my matrimonial asset after divorce?\n",
      "......................................................................................\n",
      "\u001b[1;37;40mJARVIS\u001b[0m: If the asset was acquired after marriage, it is a matrimonial asset if (i) it has been used by your spouse, or the children, while you were living together; (ii) it has been substantially improved during the marriage by your spouse, of by both of you.If the asset was a gift, or was inherited by you, it is not a matrimonial asset except if (i) it is the matrimonial home; (ii) it has been substantially improved during the marriage by your spouse, of by both of you.\n",
      "......................................................................................\n",
      "USER  :what is the criteria for alimony\n",
      "......................................................................................\n",
      "\u001b[1;37;40mJARVIS\u001b[0m: Please refer to this page: https://www.familyjusticecourts.gov.sg/Common/Pages/Maintenance.aspx\n",
      "......................................................................................\n",
      "USER  :How the court decide the custody of the child after divorce\n",
      "......................................................................................\n",
      "\u001b[1;37;40mJARVIS\u001b[0m: The Court decides two things: (a) custody, which is the right to make major decisions on the welfare and upbringing of the child; and (b) care and control, which is the right to have the child live with you and to make every day decisions regarding them. Custody can be shared but care and control normally lies with one parent.The Court considers the welfare of the child (such as the child? s emotional and physical well-being) to be the most important factor when deciding custody, and care and control. Relevant factors include:-the role that each parent has played in the child? s life-the stability that each parent can offer the child-whether the child? s existing care arrangements can be left as they are-the child? s age: care and control of a very young child will normally lie with the mother-whether there are siblings: the Court tries if possible not to separate siblings-the child? s wishes, if he or she is old enough to express an independent opinion-the parent? s wishes, which comes second to the welfare of the child\n",
      "......................................................................................\n",
      "USER  :i want a baby\n",
      "......................................................................................\n",
      "\u001b[1;37;40mJARVIS\u001b[0m: Apology, I do not understand. Can you rephrase?\n",
      "......................................................................................\n",
      "USER  :bye\n",
      "......................................................................................\n",
      "\u001b[1;37;40mJARVIS\u001b[0m: Bye! Hope that i am of help.\n"
     ]
    }
   ],
   "source": [
    "flag=True\n",
    "print(\"......................................................................................\")\n",
    "print('\\x1b[1;37;40m' + 'Jarvis'+'\\x1b[0m'+': '+ 'My name is Jarvis, a Lawyer Apprentice Bot.')\n",
    "print('\\x1b[1;37;40m' + 'Jarvis'+'\\x1b[0m'+': '+ 'I will try my best to answer your query.')\n",
    "print('\\x1b[1;37;40m' + 'Jarvis'+'\\x1b[0m'+': '+ 'If you want to exit, you can type < bye >.')\n",
    "while(flag==True):\n",
    "    print(\"......................................................................................\")\n",
    "    sentence = input('\\x1b[0;30;47m' +\"USER  \"+'\\x1b[0m'+\":\")\n",
    "    print(\"......................................................................................\")\n",
    "    if(sentence.lower()!='bye'):\n",
    "        if(greeting(sentence.lower())!=None):\n",
    "            print('\\x1b[1;37;40m' + 'JARVIS'+'\\x1b[0m'+': '+ greeting(sentence.lower()))\n",
    "        else:\n",
    "            reply =[]\n",
    "            score =[]\n",
    "            reply, score = Talk_To_Javris(str(sentence))\n",
    "            print('\\x1b[1;37;40m' + 'JARVIS'+'\\x1b[0m'+': '+reply)\n",
    "            \n",
    "            #For Tracing, comment to remove from print \n",
    "            #print(\"\")\n",
    "            #print(\"SCORE: \"+str(score))\n",
    "    else:\n",
    "        flag=False\n",
    "print('\\x1b[1;37;40m' + 'JARVIS'+'\\x1b[0m'+': '+\"Bye! Hope that i am of help.\") "
   ]
  }
 ],
 "metadata": {
  "kernelspec": {
   "display_name": "Python 3",
   "language": "python",
   "name": "python3"
  }
 },
 "nbformat": 4,
 "nbformat_minor": 2
}
